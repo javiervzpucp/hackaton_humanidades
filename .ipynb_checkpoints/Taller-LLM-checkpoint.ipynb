{
 "cells": [
  {
   "cell_type": "markdown",
   "id": "fb638617-1f3a-496b-af1f-ab2bda30b58a",
   "metadata": {},
   "source": [
    "## Taller 1: Uso de LLMs y APIs gratuitas en Python\n",
    "Javier Vera Zúñiga\n",
    "\n",
    "### Objetivo\n",
    "\n",
    "En este taller aprenderás a utilizar modelos de lenguaje (LLMs) mediante APIs gratuitas en Python, aplicándolo a un corpus de documentos históricos transcritos del siglo XIX con Transkribus."
   ]
  },
  {
   "cell_type": "markdown",
   "id": "32c826c8-7136-4f8f-9171-10278fe36f77",
   "metadata": {},
   "source": [
    "🔧 Instalación de librerías necesarias\n",
    "\n",
    "Ejecuta esta celda para instalar las dependencias necesarias:"
   ]
  },
  {
   "cell_type": "code",
   "execution_count": 7,
   "id": "01ec813a-9828-4047-9edf-7133591a8de0",
   "metadata": {},
   "outputs": [
    {
     "name": "stdout",
     "output_type": "stream",
     "text": [
      "^C\n"
     ]
    }
   ],
   "source": [
    "!pip install requests pandas langchain transformers"
   ]
  },
  {
   "cell_type": "markdown",
   "id": "03d1fa7b-d817-4ef6-af16-eadd6573afa6",
   "metadata": {},
   "source": [
    "📂 Carga y visualización del corpus histórico. Asumimos que los documentos están en carpeta \"documentos\". Solo txt para partir!"
   ]
  },
  {
   "cell_type": "code",
   "execution_count": 10,
   "id": "083f12d0-9cf2-4277-93ac-bf1d2d8330a1",
   "metadata": {},
   "outputs": [
    {
     "ename": "ModuleNotFoundError",
     "evalue": "No module named 'google.colab'",
     "output_type": "error",
     "traceback": [
      "\u001b[1;31m---------------------------------------------------------------------------\u001b[0m",
      "\u001b[1;31mModuleNotFoundError\u001b[0m                       Traceback (most recent call last)",
      "Cell \u001b[1;32mIn[10], line 1\u001b[0m\n\u001b[1;32m----> 1\u001b[0m \u001b[38;5;28;01mfrom\u001b[39;00m \u001b[38;5;21;01mgoogle\u001b[39;00m\u001b[38;5;21;01m.\u001b[39;00m\u001b[38;5;21;01mcolab\u001b[39;00m \u001b[38;5;28;01mimport\u001b[39;00m files\n\u001b[0;32m      2\u001b[0m files\u001b[38;5;241m.\u001b[39mupload()\n",
      "\u001b[1;31mModuleNotFoundError\u001b[0m: No module named 'google.colab'"
     ]
    }
   ],
   "source": [
    "from google.colab import files\n",
    "files.upload()"
   ]
  },
  {
   "cell_type": "code",
   "execution_count": 12,
   "id": "56058d82-ab52-4b39-b03a-fc59be66133f",
   "metadata": {},
   "outputs": [
    {
     "data": {
      "text/plain": [
       "[]"
      ]
     },
     "execution_count": 12,
     "metadata": {},
     "output_type": "execute_result"
    }
   ],
   "source": [
    "import glob\n",
    "\n",
    "# Cargar txt's\n",
    "# lista de nombres de documentos\n",
    "files = glob.glob('*.txt')\n",
    "# hay que guardarlos en alguna parte: corpus!\n",
    "corpus = []\n",
    "for file in files:\n",
    "    with open(file, \"r\", encoding=\"utf-8\") as file:\n",
    "        corpus = corpus + [file.read()]\n",
    "    \n",
    "# Mostrar primer documento\n",
    "corpus"
   ]
  },
  {
   "cell_type": "code",
   "execution_count": 8,
   "id": "31679ce8-2da2-4a4b-ab92-3ae80ef0d1a6",
   "metadata": {},
   "outputs": [
    {
     "data": {
      "text/plain": [
       "[]"
      ]
     },
     "execution_count": 8,
     "metadata": {},
     "output_type": "execute_result"
    }
   ],
   "source": [
    "files"
   ]
  },
  {
   "cell_type": "markdown",
   "id": "4c8c7113-1006-47b6-ac84-48b6b5f70e9d",
   "metadata": {},
   "source": [
    "🔥 Usando una API gratuita para interactuar con un LLM\n",
    "\n",
    "Aquí usamos la API gratuita de Hugging Face para generar resúmenes de documentos históricos."
   ]
  },
  {
   "cell_type": "code",
   "execution_count": null,
   "id": "49425b27-6878-41d0-ba0f-997853cf9491",
   "metadata": {},
   "outputs": [],
   "source": [
    "import requests\n",
    "\n",
    "API_URL = \"https://api-inference.huggingface.co/models/facebook/bart-large-cnn\"\n",
    "HEADERS = {\"Authorization\": \"Bearer tu_api_key_aqui\"}  # Reemplaza con tu clave gratuita de Hugging Face\n",
    "\n",
    "def obtener_resumen(texto):\n",
    "    payload = {\"inputs\": texto}\n",
    "    response = requests.post(API_URL, headers=HEADERS, json=payload)\n",
    "    return response.json()[0][\"summary_text\"]\n",
    "\n",
    "# Prueba con un documento del corpus\n",
    "texto_ejemplo = corpus[\"contenido\"][0]  # Selecciona un documento del corpus\n",
    "print(obtener_resumen(texto_ejemplo))"
   ]
  },
  {
   "cell_type": "markdown",
   "id": "3726939a-65b4-4548-8431-103288cdadd4",
   "metadata": {},
   "source": [
    "🔍 Extracción de metadatos con LLMs\n",
    "\n",
    "Podemos extraer información clave de los documentos, como fechas, nombres y lugares, utilizando la API gratuita de Cohere."
   ]
  },
  {
   "cell_type": "code",
   "execution_count": null,
   "id": "e12ec2c0-9fcf-4ba9-ad7f-6cd2cbb88a02",
   "metadata": {},
   "outputs": [],
   "source": [
    "API_URL_COHERE = \"https://api.cohere.ai/v1/generate\"\n",
    "HEADERS_COHERE = {\"Authorization\": \"Bearer tu_api_key_aqui\", \"Content-Type\": \"application/json\"}\n",
    "\n",
    "def extraer_metadatos(texto):\n",
    "    prompt = f\"Extrae entidades de personas, fechas y lugares del siguiente texto:\\n{texto}\"\n",
    "    payload = {\"model\": \"command-xlarge-nightly\", \"prompt\": prompt}\n",
    "    response = requests.post(API_URL_COHERE, headers=HEADERS_COHERE, json=payload)\n",
    "    return response.json()[\"generations\"][0][\"text\"]\n",
    "\n",
    "print(extraer_metadatos(texto_ejemplo))"
   ]
  },
  {
   "cell_type": "markdown",
   "id": "310841ac-f3fa-48c6-865d-6a5e4d1a6267",
   "metadata": {},
   "source": [
    "📌 Actividad final\n",
    "\n",
    "Implementa tu propia aplicación con LLMs:\n",
    "\n",
    "Generar resúmenes de varios documentos.\n",
    "\n",
    "Clasificar documentos históricos por tema.\n",
    "\n",
    "Extraer metadatos y construir una tabla estructurada."
   ]
  },
  {
   "cell_type": "code",
   "execution_count": null,
   "id": "f7941360-9248-4acc-845c-b1f6cdba2c68",
   "metadata": {},
   "outputs": [],
   "source": []
  }
 ],
 "metadata": {
  "kernelspec": {
   "display_name": "Python 3 (ipykernel)",
   "language": "python",
   "name": "python3"
  },
  "language_info": {
   "codemirror_mode": {
    "name": "ipython",
    "version": 3
   },
   "file_extension": ".py",
   "mimetype": "text/x-python",
   "name": "python",
   "nbconvert_exporter": "python",
   "pygments_lexer": "ipython3",
   "version": "3.12.7"
  }
 },
 "nbformat": 4,
 "nbformat_minor": 5
}
